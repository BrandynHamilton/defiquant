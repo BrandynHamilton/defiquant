{
 "cells": [
  {
   "cell_type": "markdown",
   "metadata": {},
   "source": [
    "# USDC-Transfer SDK"
   ]
  },
  {
   "cell_type": "code",
   "execution_count": 1,
   "metadata": {},
   "outputs": [],
   "source": [
    "from usdc_transfer import(get_token_decimals,get_balance,convert_to_usd,network_func,token_data,CHAIN_MAP,resolve_chain_name,extract_token_decimals,extract_token_contracts) "
   ]
  },
  {
   "cell_type": "code",
   "execution_count": 2,
   "metadata": {},
   "outputs": [],
   "source": [
    "import requests"
   ]
  },
  {
   "cell_type": "code",
   "execution_count": 4,
   "metadata": {},
   "outputs": [],
   "source": [
    "usdc_data = token_data()"
   ]
  },
  {
   "cell_type": "code",
   "execution_count": 5,
   "metadata": {},
   "outputs": [
    {
     "data": {
      "text/plain": [
       "['ethereum', 'arbitrum', 'optimism', 'avalanche', 'polygon', 'base']"
      ]
     },
     "execution_count": 5,
     "metadata": {},
     "output_type": "execute_result"
    }
   ],
   "source": [
    "list(CHAIN_MAP.keys())"
   ]
  },
  {
   "cell_type": "code",
   "execution_count": 6,
   "metadata": {},
   "outputs": [
    {
     "data": {
      "text/plain": [
       "0.999892"
      ]
     },
     "execution_count": 6,
     "metadata": {},
     "output_type": "execute_result"
    }
   ],
   "source": [
    "usdc_price = (\n",
    "    usdc_data.get('market_data', {})\n",
    "    .get('current_price', {})\n",
    "    .get('usd', 1)\n",
    ")\n",
    "usdc_price"
   ]
  },
  {
   "cell_type": "code",
   "execution_count": 9,
   "metadata": {},
   "outputs": [
    {
     "data": {
      "text/plain": [
       "{'ethereum': '0xa0b86991c6218b36c1d19d4a2e9eb0ce3606eb48',\n",
       " 'unichain': '0x078d782b760474a361dda0af3839290b0ef57ad6',\n",
       " 'zksync': '0x1d17cbcf0d6d143135ae902365d2e5e2a16538d4',\n",
       " 'optimistic-ethereum': '0x0b2c639c533813f4aa9d7837caf62653d097ff85',\n",
       " 'polkadot': '1337',\n",
       " 'tron': 'TEkxiTehnzSmSe2XqrBj4w32RUN966rdz8',\n",
       " 'near-protocol': '17208628f84f5d6ad33f0da3bbbeb27ffcb398eac501a31bd6ad2011e36133a1',\n",
       " 'hedera-hashgraph': '0.0.456858',\n",
       " 'aptos': '0xbae207659db88bea0cbead6da0ed00aac12edcdda169e591cd41c94180b46f3b',\n",
       " 'algorand': '31566704',\n",
       " 'stellar': 'USDC-GA5ZSEJYB37JRC5AVCIA5MOP4RHTM335X2KGX3IHOJAPP5RE34K4KZVN',\n",
       " 'celo': '0xceba9300f2b948710d2653dd7b07f33a8b32118c',\n",
       " 'sui': '0xdba34672e30cb065b1f93e3ab55318768fd6fef66c15942c9f7cb846e2f900e7::usdc::USDC',\n",
       " 'avalanche': '0xb97ef9ef8734c71904d8002f8b6bc66dd9c48a6e',\n",
       " 'arbitrum-one': '0xaf88d065e77c8cc2239327c5edb3a432268e5831',\n",
       " 'polygon-pos': '0x3c499c542cef5e3811e1192ce70d8cc03d5c3359',\n",
       " 'base': '0x833589fcd6edb6e08f4c7c32d4f71b54bda02913',\n",
       " 'solana': 'EPjFWdd5AufqSSqeM2qN1xzybapC8G4wEGGkZwyTDt1v'}"
      ]
     },
     "execution_count": 9,
     "metadata": {},
     "output_type": "execute_result"
    }
   ],
   "source": [
    "usdc_data[\"platforms\"]"
   ]
  },
  {
   "cell_type": "code",
   "execution_count": 7,
   "metadata": {},
   "outputs": [
    {
     "data": {
      "text/plain": [
       "{'ethereum': '0xa0b86991c6218b36c1d19d4a2e9eb0ce3606eb48',\n",
       " 'avalanche': '0xb97ef9ef8734c71904d8002f8b6bc66dd9c48a6e',\n",
       " 'base': '0x833589fcd6edb6e08f4c7c32d4f71b54bda02913'}"
      ]
     },
     "execution_count": 7,
     "metadata": {},
     "output_type": "execute_result"
    }
   ],
   "source": [
    "TOKEN_CONTRACTS = extract_token_contracts(usdc_data, infura_chain_map)\n",
    "TOKEN_CONTRACTS"
   ]
  },
  {
   "cell_type": "code",
   "execution_count": 12,
   "metadata": {},
   "outputs": [
    {
     "name": "stdout",
     "output_type": "stream",
     "text": [
      "platform: ethereum\n",
      "infura_chain_map: {'ethereum': 'ethereum', 'eth': 'ethereum', 'arbitrum': 'arbitrum', 'arb': 'arbitrum', 'optimism': 'optimism', 'opt': 'optimism', 'avalanche': 'avalanche', 'avax': 'avalanche', 'polygon': 'polygon', 'base': 'base'}\n",
      "platform: unichain\n",
      "infura_chain_map: {'ethereum': 'ethereum', 'eth': 'ethereum', 'arbitrum': 'arbitrum', 'arb': 'arbitrum', 'optimism': 'optimism', 'opt': 'optimism', 'avalanche': 'avalanche', 'avax': 'avalanche', 'polygon': 'polygon', 'base': 'base'}\n",
      "platform: zksync\n",
      "infura_chain_map: {'ethereum': 'ethereum', 'eth': 'ethereum', 'arbitrum': 'arbitrum', 'arb': 'arbitrum', 'optimism': 'optimism', 'opt': 'optimism', 'avalanche': 'avalanche', 'avax': 'avalanche', 'polygon': 'polygon', 'base': 'base'}\n",
      "platform: optimistic-ethereum\n",
      "infura_chain_map: {'ethereum': 'ethereum', 'eth': 'ethereum', 'arbitrum': 'arbitrum', 'arb': 'arbitrum', 'optimism': 'optimism', 'opt': 'optimism', 'avalanche': 'avalanche', 'avax': 'avalanche', 'polygon': 'polygon', 'base': 'base'}\n",
      "platform: polkadot\n",
      "infura_chain_map: {'ethereum': 'ethereum', 'eth': 'ethereum', 'arbitrum': 'arbitrum', 'arb': 'arbitrum', 'optimism': 'optimism', 'opt': 'optimism', 'avalanche': 'avalanche', 'avax': 'avalanche', 'polygon': 'polygon', 'base': 'base'}\n",
      "platform: tron\n",
      "infura_chain_map: {'ethereum': 'ethereum', 'eth': 'ethereum', 'arbitrum': 'arbitrum', 'arb': 'arbitrum', 'optimism': 'optimism', 'opt': 'optimism', 'avalanche': 'avalanche', 'avax': 'avalanche', 'polygon': 'polygon', 'base': 'base'}\n",
      "platform: near-protocol\n",
      "infura_chain_map: {'ethereum': 'ethereum', 'eth': 'ethereum', 'arbitrum': 'arbitrum', 'arb': 'arbitrum', 'optimism': 'optimism', 'opt': 'optimism', 'avalanche': 'avalanche', 'avax': 'avalanche', 'polygon': 'polygon', 'base': 'base'}\n",
      "platform: hedera-hashgraph\n",
      "infura_chain_map: {'ethereum': 'ethereum', 'eth': 'ethereum', 'arbitrum': 'arbitrum', 'arb': 'arbitrum', 'optimism': 'optimism', 'opt': 'optimism', 'avalanche': 'avalanche', 'avax': 'avalanche', 'polygon': 'polygon', 'base': 'base'}\n",
      "platform: aptos\n",
      "infura_chain_map: {'ethereum': 'ethereum', 'eth': 'ethereum', 'arbitrum': 'arbitrum', 'arb': 'arbitrum', 'optimism': 'optimism', 'opt': 'optimism', 'avalanche': 'avalanche', 'avax': 'avalanche', 'polygon': 'polygon', 'base': 'base'}\n",
      "platform: algorand\n",
      "infura_chain_map: {'ethereum': 'ethereum', 'eth': 'ethereum', 'arbitrum': 'arbitrum', 'arb': 'arbitrum', 'optimism': 'optimism', 'opt': 'optimism', 'avalanche': 'avalanche', 'avax': 'avalanche', 'polygon': 'polygon', 'base': 'base'}\n",
      "platform: stellar\n",
      "infura_chain_map: {'ethereum': 'ethereum', 'eth': 'ethereum', 'arbitrum': 'arbitrum', 'arb': 'arbitrum', 'optimism': 'optimism', 'opt': 'optimism', 'avalanche': 'avalanche', 'avax': 'avalanche', 'polygon': 'polygon', 'base': 'base'}\n",
      "platform: celo\n",
      "infura_chain_map: {'ethereum': 'ethereum', 'eth': 'ethereum', 'arbitrum': 'arbitrum', 'arb': 'arbitrum', 'optimism': 'optimism', 'opt': 'optimism', 'avalanche': 'avalanche', 'avax': 'avalanche', 'polygon': 'polygon', 'base': 'base'}\n",
      "platform: sui\n",
      "infura_chain_map: {'ethereum': 'ethereum', 'eth': 'ethereum', 'arbitrum': 'arbitrum', 'arb': 'arbitrum', 'optimism': 'optimism', 'opt': 'optimism', 'avalanche': 'avalanche', 'avax': 'avalanche', 'polygon': 'polygon', 'base': 'base'}\n",
      "platform: avalanche\n",
      "infura_chain_map: {'ethereum': 'ethereum', 'eth': 'ethereum', 'arbitrum': 'arbitrum', 'arb': 'arbitrum', 'optimism': 'optimism', 'opt': 'optimism', 'avalanche': 'avalanche', 'avax': 'avalanche', 'polygon': 'polygon', 'base': 'base'}\n",
      "platform: arbitrum-one\n",
      "infura_chain_map: {'ethereum': 'ethereum', 'eth': 'ethereum', 'arbitrum': 'arbitrum', 'arb': 'arbitrum', 'optimism': 'optimism', 'opt': 'optimism', 'avalanche': 'avalanche', 'avax': 'avalanche', 'polygon': 'polygon', 'base': 'base'}\n",
      "platform: polygon-pos\n",
      "infura_chain_map: {'ethereum': 'ethereum', 'eth': 'ethereum', 'arbitrum': 'arbitrum', 'arb': 'arbitrum', 'optimism': 'optimism', 'opt': 'optimism', 'avalanche': 'avalanche', 'avax': 'avalanche', 'polygon': 'polygon', 'base': 'base'}\n",
      "platform: base\n",
      "infura_chain_map: {'ethereum': 'ethereum', 'eth': 'ethereum', 'arbitrum': 'arbitrum', 'arb': 'arbitrum', 'optimism': 'optimism', 'opt': 'optimism', 'avalanche': 'avalanche', 'avax': 'avalanche', 'polygon': 'polygon', 'base': 'base'}\n",
      "platform: solana\n",
      "infura_chain_map: {'ethereum': 'ethereum', 'eth': 'ethereum', 'arbitrum': 'arbitrum', 'arb': 'arbitrum', 'optimism': 'optimism', 'opt': 'optimism', 'avalanche': 'avalanche', 'avax': 'avalanche', 'polygon': 'polygon', 'base': 'base'}\n",
      "{'ethereum': '0xa0b86991c6218b36c1d19d4a2e9eb0ce3606eb48', 'avalanche': '0xb97ef9ef8734c71904d8002f8b6bc66dd9c48a6e', 'base': '0x833589fcd6edb6e08f4c7c32d4f71b54bda02913'}\n"
     ]
    }
   ],
   "source": [
    "TOKEN_CONTRACTS = {}\n",
    "\n",
    "for platform in usdc_data[\"platforms\"]:\n",
    "    cleaned_platform = platform.replace('-','')\n",
    "    print(f'platform: {platform}')\n",
    "    print(f'infura_chain_map: {infura_chain_map}')\n",
    "    if platform in infura_chain_map:\n",
    "        network = infura_chain_map[platform]\n",
    "        contract_address = usdc_data[\"platforms\"][platform]\n",
    "        TOKEN_CONTRACTS[network] = contract_address\n",
    "\n",
    "print(TOKEN_CONTRACTS)"
   ]
  },
  {
   "cell_type": "code",
   "execution_count": 6,
   "metadata": {},
   "outputs": [
    {
     "name": "stdout",
     "output_type": "stream",
     "text": [
      "ok\n"
     ]
    }
   ],
   "source": [
    "def extract_token_decimals(usdc_data, infura_chain_map):\n",
    "    token_decimals = {}\n",
    "    detail_platforms = usdc_data.get(\"detail_platforms\", {})\n",
    "\n",
    "    if detail_platforms:\n",
    "        for platform, platform_data in detail_platforms.items():\n",
    "            network = infura_chain_map.get(platform)\n",
    "            if network:\n",
    "                decimals = platform_data.get('decimal_place', 6)\n",
    "                token_decimals[network] = decimals\n",
    "    else:\n",
    "        token_decimals = {network: 6 for network in infura_chain_map.values()}\n",
    "\n",
    "    return token_decimals\n",
    "\n",
    "TOKEN_DECIMALS = extract_token_decimals(usdc_data, infura_chain_map)"
   ]
  },
  {
   "cell_type": "code",
   "execution_count": 2,
   "metadata": {},
   "outputs": [
    {
     "name": "stdout",
     "output_type": "stream",
     "text": [
      "✅ Connected to ethereum via https://eth-mainnet.g.alchemy.com/v2/1gB0_sNGccFjb2rwjK3jVIZMWL2uhLDw: Block 22179471\n"
     ]
    }
   ],
   "source": [
    "w3 = network_func(chain='ethereum')"
   ]
  },
  {
   "cell_type": "code",
   "execution_count": 1,
   "metadata": {},
   "outputs": [],
   "source": [
    "from dfcleaner import DFCleaner\n",
    "import pandas as pd"
   ]
  },
  {
   "cell_type": "code",
   "execution_count": 2,
   "metadata": {},
   "outputs": [
    {
     "name": "stdout",
     "output_type": "stream",
     "text": [
      "['Africa/Abidjan', 'Africa/Accra', 'Africa/Addis_Ababa', 'Africa/Algiers', 'Africa/Asmara', 'Africa/Asmera', 'Africa/Bamako', 'Africa/Bangui', 'Africa/Banjul', 'Africa/Bissau', 'Africa/Blantyre', 'Africa/Brazzaville', 'Africa/Bujumbura', 'Africa/Cairo', 'Africa/Casablanca', 'Africa/Ceuta', 'Africa/Conakry', 'Africa/Dakar', 'Africa/Dar_es_Salaam', 'Africa/Djibouti', 'Africa/Douala', 'Africa/El_Aaiun', 'Africa/Freetown', 'Africa/Gaborone', 'Africa/Harare', 'Africa/Johannesburg', 'Africa/Juba', 'Africa/Kampala', 'Africa/Khartoum', 'Africa/Kigali', 'Africa/Kinshasa', 'Africa/Lagos', 'Africa/Libreville', 'Africa/Lome', 'Africa/Luanda', 'Africa/Lubumbashi', 'Africa/Lusaka', 'Africa/Malabo', 'Africa/Maputo', 'Africa/Maseru', 'Africa/Mbabane', 'Africa/Mogadishu', 'Africa/Monrovia', 'Africa/Nairobi', 'Africa/Ndjamena', 'Africa/Niamey', 'Africa/Nouakchott', 'Africa/Ouagadougou', 'Africa/Porto-Novo', 'Africa/Sao_Tome', 'Africa/Timbuktu', 'Africa/Tripoli', 'Africa/Tunis', 'Africa/Windhoek', 'America/Adak', 'America/Anchorage', 'America/Anguilla', 'America/Antigua', 'America/Araguaina', 'America/Argentina/Buenos_Aires', 'America/Argentina/Catamarca', 'America/Argentina/ComodRivadavia', 'America/Argentina/Cordoba', 'America/Argentina/Jujuy', 'America/Argentina/La_Rioja', 'America/Argentina/Mendoza', 'America/Argentina/Rio_Gallegos', 'America/Argentina/Salta', 'America/Argentina/San_Juan', 'America/Argentina/San_Luis', 'America/Argentina/Tucuman', 'America/Argentina/Ushuaia', 'America/Aruba', 'America/Asuncion', 'America/Atikokan', 'America/Atka', 'America/Bahia', 'America/Bahia_Banderas', 'America/Barbados', 'America/Belem', 'America/Belize', 'America/Blanc-Sablon', 'America/Boa_Vista', 'America/Bogota', 'America/Boise', 'America/Buenos_Aires', 'America/Cambridge_Bay', 'America/Campo_Grande', 'America/Cancun', 'America/Caracas', 'America/Catamarca', 'America/Cayenne', 'America/Cayman', 'America/Chicago', 'America/Chihuahua', 'America/Ciudad_Juarez', 'America/Coral_Harbour', 'America/Cordoba', 'America/Costa_Rica', 'America/Coyhaique', 'America/Creston', 'America/Cuiaba', 'America/Curacao', 'America/Danmarkshavn', 'America/Dawson', 'America/Dawson_Creek', 'America/Denver', 'America/Detroit', 'America/Dominica', 'America/Edmonton', 'America/Eirunepe', 'America/El_Salvador', 'America/Ensenada', 'America/Fort_Nelson', 'America/Fort_Wayne', 'America/Fortaleza', 'America/Glace_Bay', 'America/Godthab', 'America/Goose_Bay', 'America/Grand_Turk', 'America/Grenada', 'America/Guadeloupe', 'America/Guatemala', 'America/Guayaquil', 'America/Guyana', 'America/Halifax', 'America/Havana', 'America/Hermosillo', 'America/Indiana/Indianapolis', 'America/Indiana/Knox', 'America/Indiana/Marengo', 'America/Indiana/Petersburg', 'America/Indiana/Tell_City', 'America/Indiana/Vevay', 'America/Indiana/Vincennes', 'America/Indiana/Winamac', 'America/Indianapolis', 'America/Inuvik', 'America/Iqaluit', 'America/Jamaica', 'America/Jujuy', 'America/Juneau', 'America/Kentucky/Louisville', 'America/Kentucky/Monticello', 'America/Knox_IN', 'America/Kralendijk', 'America/La_Paz', 'America/Lima', 'America/Los_Angeles', 'America/Louisville', 'America/Lower_Princes', 'America/Maceio', 'America/Managua', 'America/Manaus', 'America/Marigot', 'America/Martinique', 'America/Matamoros', 'America/Mazatlan', 'America/Mendoza', 'America/Menominee', 'America/Merida', 'America/Metlakatla', 'America/Mexico_City', 'America/Miquelon', 'America/Moncton', 'America/Monterrey', 'America/Montevideo', 'America/Montreal', 'America/Montserrat', 'America/Nassau', 'America/New_York', 'America/Nipigon', 'America/Nome', 'America/Noronha', 'America/North_Dakota/Beulah', 'America/North_Dakota/Center', 'America/North_Dakota/New_Salem', 'America/Nuuk', 'America/Ojinaga', 'America/Panama', 'America/Pangnirtung', 'America/Paramaribo', 'America/Phoenix', 'America/Port-au-Prince', 'America/Port_of_Spain', 'America/Porto_Acre', 'America/Porto_Velho', 'America/Puerto_Rico', 'America/Punta_Arenas', 'America/Rainy_River', 'America/Rankin_Inlet', 'America/Recife', 'America/Regina', 'America/Resolute', 'America/Rio_Branco', 'America/Rosario', 'America/Santa_Isabel', 'America/Santarem', 'America/Santiago', 'America/Santo_Domingo', 'America/Sao_Paulo', 'America/Scoresbysund', 'America/Shiprock', 'America/Sitka', 'America/St_Barthelemy', 'America/St_Johns', 'America/St_Kitts', 'America/St_Lucia', 'America/St_Thomas', 'America/St_Vincent', 'America/Swift_Current', 'America/Tegucigalpa', 'America/Thule', 'America/Thunder_Bay', 'America/Tijuana', 'America/Toronto', 'America/Tortola', 'America/Vancouver', 'America/Virgin', 'America/Whitehorse', 'America/Winnipeg', 'America/Yakutat', 'America/Yellowknife', 'Antarctica/Casey', 'Antarctica/Davis', 'Antarctica/DumontDUrville', 'Antarctica/Macquarie', 'Antarctica/Mawson', 'Antarctica/McMurdo', 'Antarctica/Palmer', 'Antarctica/Rothera', 'Antarctica/South_Pole', 'Antarctica/Syowa', 'Antarctica/Troll', 'Antarctica/Vostok', 'Arctic/Longyearbyen', 'Asia/Aden', 'Asia/Almaty', 'Asia/Amman', 'Asia/Anadyr', 'Asia/Aqtau', 'Asia/Aqtobe', 'Asia/Ashgabat', 'Asia/Ashkhabad', 'Asia/Atyrau', 'Asia/Baghdad', 'Asia/Bahrain', 'Asia/Baku', 'Asia/Bangkok', 'Asia/Barnaul', 'Asia/Beirut', 'Asia/Bishkek', 'Asia/Brunei', 'Asia/Calcutta', 'Asia/Chita', 'Asia/Choibalsan', 'Asia/Chongqing', 'Asia/Chungking', 'Asia/Colombo', 'Asia/Dacca', 'Asia/Damascus', 'Asia/Dhaka', 'Asia/Dili', 'Asia/Dubai', 'Asia/Dushanbe', 'Asia/Famagusta', 'Asia/Gaza', 'Asia/Harbin', 'Asia/Hebron', 'Asia/Ho_Chi_Minh', 'Asia/Hong_Kong', 'Asia/Hovd', 'Asia/Irkutsk', 'Asia/Istanbul', 'Asia/Jakarta', 'Asia/Jayapura', 'Asia/Jerusalem', 'Asia/Kabul', 'Asia/Kamchatka', 'Asia/Karachi', 'Asia/Kashgar', 'Asia/Kathmandu', 'Asia/Katmandu', 'Asia/Khandyga', 'Asia/Kolkata', 'Asia/Krasnoyarsk', 'Asia/Kuala_Lumpur', 'Asia/Kuching', 'Asia/Kuwait', 'Asia/Macao', 'Asia/Macau', 'Asia/Magadan', 'Asia/Makassar', 'Asia/Manila', 'Asia/Muscat', 'Asia/Nicosia', 'Asia/Novokuznetsk', 'Asia/Novosibirsk', 'Asia/Omsk', 'Asia/Oral', 'Asia/Phnom_Penh', 'Asia/Pontianak', 'Asia/Pyongyang', 'Asia/Qatar', 'Asia/Qostanay', 'Asia/Qyzylorda', 'Asia/Rangoon', 'Asia/Riyadh', 'Asia/Saigon', 'Asia/Sakhalin', 'Asia/Samarkand', 'Asia/Seoul', 'Asia/Shanghai', 'Asia/Singapore', 'Asia/Srednekolymsk', 'Asia/Taipei', 'Asia/Tashkent', 'Asia/Tbilisi', 'Asia/Tehran', 'Asia/Tel_Aviv', 'Asia/Thimbu', 'Asia/Thimphu', 'Asia/Tokyo', 'Asia/Tomsk', 'Asia/Ujung_Pandang', 'Asia/Ulaanbaatar', 'Asia/Ulan_Bator', 'Asia/Urumqi', 'Asia/Ust-Nera', 'Asia/Vientiane', 'Asia/Vladivostok', 'Asia/Yakutsk', 'Asia/Yangon', 'Asia/Yekaterinburg', 'Asia/Yerevan', 'Atlantic/Azores', 'Atlantic/Bermuda', 'Atlantic/Canary', 'Atlantic/Cape_Verde', 'Atlantic/Faeroe', 'Atlantic/Faroe', 'Atlantic/Jan_Mayen', 'Atlantic/Madeira', 'Atlantic/Reykjavik', 'Atlantic/South_Georgia', 'Atlantic/St_Helena', 'Atlantic/Stanley', 'Australia/ACT', 'Australia/Adelaide', 'Australia/Brisbane', 'Australia/Broken_Hill', 'Australia/Canberra', 'Australia/Currie', 'Australia/Darwin', 'Australia/Eucla', 'Australia/Hobart', 'Australia/LHI', 'Australia/Lindeman', 'Australia/Lord_Howe', 'Australia/Melbourne', 'Australia/NSW', 'Australia/North', 'Australia/Perth', 'Australia/Queensland', 'Australia/South', 'Australia/Sydney', 'Australia/Tasmania', 'Australia/Victoria', 'Australia/West', 'Australia/Yancowinna', 'Brazil/Acre', 'Brazil/DeNoronha', 'Brazil/East', 'Brazil/West', 'CET', 'CST6CDT', 'Canada/Atlantic', 'Canada/Central', 'Canada/Eastern', 'Canada/Mountain', 'Canada/Newfoundland', 'Canada/Pacific', 'Canada/Saskatchewan', 'Canada/Yukon', 'Chile/Continental', 'Chile/EasterIsland', 'Cuba', 'EET', 'EST', 'EST5EDT', 'Egypt', 'Eire', 'Etc/GMT', 'Etc/GMT+0', 'Etc/GMT+1', 'Etc/GMT+10', 'Etc/GMT+11', 'Etc/GMT+12', 'Etc/GMT+2', 'Etc/GMT+3', 'Etc/GMT+4', 'Etc/GMT+5', 'Etc/GMT+6', 'Etc/GMT+7', 'Etc/GMT+8', 'Etc/GMT+9', 'Etc/GMT-0', 'Etc/GMT-1', 'Etc/GMT-10', 'Etc/GMT-11', 'Etc/GMT-12', 'Etc/GMT-13', 'Etc/GMT-14', 'Etc/GMT-2', 'Etc/GMT-3', 'Etc/GMT-4', 'Etc/GMT-5', 'Etc/GMT-6', 'Etc/GMT-7', 'Etc/GMT-8', 'Etc/GMT-9', 'Etc/GMT0', 'Etc/Greenwich', 'Etc/UCT', 'Etc/UTC', 'Etc/Universal', 'Etc/Zulu', 'Europe/Amsterdam', 'Europe/Andorra', 'Europe/Astrakhan', 'Europe/Athens', 'Europe/Belfast', 'Europe/Belgrade', 'Europe/Berlin', 'Europe/Bratislava', 'Europe/Brussels', 'Europe/Bucharest', 'Europe/Budapest', 'Europe/Busingen', 'Europe/Chisinau', 'Europe/Copenhagen', 'Europe/Dublin', 'Europe/Gibraltar', 'Europe/Guernsey', 'Europe/Helsinki', 'Europe/Isle_of_Man', 'Europe/Istanbul', 'Europe/Jersey', 'Europe/Kaliningrad', 'Europe/Kiev', 'Europe/Kirov', 'Europe/Kyiv', 'Europe/Lisbon', 'Europe/Ljubljana', 'Europe/London', 'Europe/Luxembourg', 'Europe/Madrid', 'Europe/Malta', 'Europe/Mariehamn', 'Europe/Minsk', 'Europe/Monaco', 'Europe/Moscow', 'Europe/Nicosia', 'Europe/Oslo', 'Europe/Paris', 'Europe/Podgorica', 'Europe/Prague', 'Europe/Riga', 'Europe/Rome', 'Europe/Samara', 'Europe/San_Marino', 'Europe/Sarajevo', 'Europe/Saratov', 'Europe/Simferopol', 'Europe/Skopje', 'Europe/Sofia', 'Europe/Stockholm', 'Europe/Tallinn', 'Europe/Tirane', 'Europe/Tiraspol', 'Europe/Ulyanovsk', 'Europe/Uzhgorod', 'Europe/Vaduz', 'Europe/Vatican', 'Europe/Vienna', 'Europe/Vilnius', 'Europe/Volgograd', 'Europe/Warsaw', 'Europe/Zagreb', 'Europe/Zaporozhye', 'Europe/Zurich', 'GB', 'GB-Eire', 'GMT', 'GMT+0', 'GMT-0', 'GMT0', 'Greenwich', 'HST', 'Hongkong', 'Iceland', 'Indian/Antananarivo', 'Indian/Chagos', 'Indian/Christmas', 'Indian/Cocos', 'Indian/Comoro', 'Indian/Kerguelen', 'Indian/Mahe', 'Indian/Maldives', 'Indian/Mauritius', 'Indian/Mayotte', 'Indian/Reunion', 'Iran', 'Israel', 'Jamaica', 'Japan', 'Kwajalein', 'Libya', 'MET', 'MST', 'MST7MDT', 'Mexico/BajaNorte', 'Mexico/BajaSur', 'Mexico/General', 'NZ', 'NZ-CHAT', 'Navajo', 'PRC', 'PST8PDT', 'Pacific/Apia', 'Pacific/Auckland', 'Pacific/Bougainville', 'Pacific/Chatham', 'Pacific/Chuuk', 'Pacific/Easter', 'Pacific/Efate', 'Pacific/Enderbury', 'Pacific/Fakaofo', 'Pacific/Fiji', 'Pacific/Funafuti', 'Pacific/Galapagos', 'Pacific/Gambier', 'Pacific/Guadalcanal', 'Pacific/Guam', 'Pacific/Honolulu', 'Pacific/Johnston', 'Pacific/Kanton', 'Pacific/Kiritimati', 'Pacific/Kosrae', 'Pacific/Kwajalein', 'Pacific/Majuro', 'Pacific/Marquesas', 'Pacific/Midway', 'Pacific/Nauru', 'Pacific/Niue', 'Pacific/Norfolk', 'Pacific/Noumea', 'Pacific/Pago_Pago', 'Pacific/Palau', 'Pacific/Pitcairn', 'Pacific/Pohnpei', 'Pacific/Ponape', 'Pacific/Port_Moresby', 'Pacific/Rarotonga', 'Pacific/Saipan', 'Pacific/Samoa', 'Pacific/Tahiti', 'Pacific/Tarawa', 'Pacific/Tongatapu', 'Pacific/Truk', 'Pacific/Wake', 'Pacific/Wallis', 'Pacific/Yap', 'Poland', 'Portugal', 'ROC', 'ROK', 'Singapore', 'Turkey', 'UCT', 'US/Alaska', 'US/Aleutian', 'US/Arizona', 'US/Central', 'US/East-Indiana', 'US/Eastern', 'US/Hawaii', 'US/Indiana-Starke', 'US/Michigan', 'US/Mountain', 'US/Pacific', 'US/Samoa', 'UTC', 'Universal', 'W-SU', 'WET', 'Zulu']\n"
     ]
    }
   ],
   "source": [
    "import pytz\n",
    "print(pytz.all_timezones)"
   ]
  },
  {
   "cell_type": "code",
   "execution_count": 3,
   "metadata": {},
   "outputs": [],
   "source": [
    "cleaner = DFCleaner(timezone='UTC')"
   ]
  },
  {
   "cell_type": "markdown",
   "metadata": {},
   "source": [
    "# DF Cleaner Tests"
   ]
  },
  {
   "cell_type": "code",
   "execution_count": 4,
   "metadata": {},
   "outputs": [
    {
     "data": {
      "text/html": [
       "<div>\n",
       "<style scoped>\n",
       "    .dataframe tbody tr th:only-of-type {\n",
       "        vertical-align: middle;\n",
       "    }\n",
       "\n",
       "    .dataframe tbody tr th {\n",
       "        vertical-align: top;\n",
       "    }\n",
       "\n",
       "    .dataframe thead th {\n",
       "        text-align: right;\n",
       "    }\n",
       "</style>\n",
       "<table border=\"1\" class=\"dataframe\">\n",
       "  <thead>\n",
       "    <tr style=\"text-align: right;\">\n",
       "      <th></th>\n",
       "      <th>Week</th>\n",
       "      <th>Successful Transactions</th>\n",
       "      <th>Failed Transactions</th>\n",
       "      <th>Cumulative Transactions Total</th>\n",
       "    </tr>\n",
       "  </thead>\n",
       "  <tbody>\n",
       "    <tr>\n",
       "      <th>0</th>\n",
       "      <td>2022-08-22 00:00:00.000 UTC</td>\n",
       "      <td>862352</td>\n",
       "      <td>78424</td>\n",
       "      <td>940776</td>\n",
       "    </tr>\n",
       "    <tr>\n",
       "      <th>1</th>\n",
       "      <td>2022-08-29 00:00:00.000 UTC</td>\n",
       "      <td>1815167</td>\n",
       "      <td>50016</td>\n",
       "      <td>2805959</td>\n",
       "    </tr>\n",
       "    <tr>\n",
       "      <th>2</th>\n",
       "      <td>2022-09-05 00:00:00.000 UTC</td>\n",
       "      <td>2581433</td>\n",
       "      <td>61629</td>\n",
       "      <td>5449021</td>\n",
       "    </tr>\n",
       "    <tr>\n",
       "      <th>3</th>\n",
       "      <td>2022-09-12 00:00:00.000 UTC</td>\n",
       "      <td>2055200</td>\n",
       "      <td>62099</td>\n",
       "      <td>7566320</td>\n",
       "    </tr>\n",
       "    <tr>\n",
       "      <th>4</th>\n",
       "      <td>2022-09-19 00:00:00.000 UTC</td>\n",
       "      <td>2991197</td>\n",
       "      <td>62370</td>\n",
       "      <td>10619887</td>\n",
       "    </tr>\n",
       "    <tr>\n",
       "      <th>...</th>\n",
       "      <td>...</td>\n",
       "      <td>...</td>\n",
       "      <td>...</td>\n",
       "      <td>...</td>\n",
       "    </tr>\n",
       "    <tr>\n",
       "      <th>100</th>\n",
       "      <td>2024-07-22 00:00:00.000 UTC</td>\n",
       "      <td>13060381</td>\n",
       "      <td>1376355</td>\n",
       "      <td>845907343</td>\n",
       "    </tr>\n",
       "    <tr>\n",
       "      <th>101</th>\n",
       "      <td>2024-07-29 00:00:00.000 UTC</td>\n",
       "      <td>14059366</td>\n",
       "      <td>2069965</td>\n",
       "      <td>862036674</td>\n",
       "    </tr>\n",
       "    <tr>\n",
       "      <th>102</th>\n",
       "      <td>2024-08-05 00:00:00.000 UTC</td>\n",
       "      <td>13918516</td>\n",
       "      <td>2565108</td>\n",
       "      <td>878520298</td>\n",
       "    </tr>\n",
       "    <tr>\n",
       "      <th>103</th>\n",
       "      <td>2024-08-12 00:00:00.000 UTC</td>\n",
       "      <td>12553089</td>\n",
       "      <td>1492402</td>\n",
       "      <td>892565789</td>\n",
       "    </tr>\n",
       "    <tr>\n",
       "      <th>104</th>\n",
       "      <td>2024-08-19 00:00:00.000 UTC</td>\n",
       "      <td>5439470</td>\n",
       "      <td>645313</td>\n",
       "      <td>898650572</td>\n",
       "    </tr>\n",
       "  </tbody>\n",
       "</table>\n",
       "<p>105 rows × 4 columns</p>\n",
       "</div>"
      ],
      "text/plain": [
       "                            Week  Successful Transactions  \\\n",
       "0    2022-08-22 00:00:00.000 UTC                   862352   \n",
       "1    2022-08-29 00:00:00.000 UTC                  1815167   \n",
       "2    2022-09-05 00:00:00.000 UTC                  2581433   \n",
       "3    2022-09-12 00:00:00.000 UTC                  2055200   \n",
       "4    2022-09-19 00:00:00.000 UTC                  2991197   \n",
       "..                           ...                      ...   \n",
       "100  2024-07-22 00:00:00.000 UTC                 13060381   \n",
       "101  2024-07-29 00:00:00.000 UTC                 14059366   \n",
       "102  2024-08-05 00:00:00.000 UTC                 13918516   \n",
       "103  2024-08-12 00:00:00.000 UTC                 12553089   \n",
       "104  2024-08-19 00:00:00.000 UTC                  5439470   \n",
       "\n",
       "     Failed Transactions  Cumulative Transactions Total  \n",
       "0                  78424                         940776  \n",
       "1                  50016                        2805959  \n",
       "2                  61629                        5449021  \n",
       "3                  62099                        7566320  \n",
       "4                  62370                       10619887  \n",
       "..                   ...                            ...  \n",
       "100              1376355                      845907343  \n",
       "101              2069965                      862036674  \n",
       "102              2565108                      878520298  \n",
       "103              1492402                      892565789  \n",
       "104               645313                      898650572  \n",
       "\n",
       "[105 rows x 4 columns]"
      ]
     },
     "execution_count": 4,
     "metadata": {},
     "output_type": "execute_result"
    }
   ],
   "source": [
    "path = r'E:\\Projects\\ournetwork\\chart_builder\\data\\01J5VEN4XDE4XKZCY48ARVEJGG.csv'\n",
    "\n",
    "df = cleaner.to_df(path)\n",
    "df"
   ]
  },
  {
   "cell_type": "code",
   "execution_count": 5,
   "metadata": {},
   "outputs": [
    {
     "name": "stdout",
     "output_type": "stream",
     "text": [
      "freq: W-MON, df:                            Successful Transactions  Failed Transactions  \\\n",
      "Week                                                                      \n",
      "2022-08-22 00:00:00+00:00                   862352                78424   \n",
      "2022-08-29 00:00:00+00:00                  1815167                50016   \n",
      "2022-09-05 00:00:00+00:00                  2581433                61629   \n",
      "2022-09-12 00:00:00+00:00                  2055200                62099   \n",
      "2022-09-19 00:00:00+00:00                  2991197                62370   \n",
      "...                                            ...                  ...   \n",
      "2024-07-22 00:00:00+00:00                 13060381              1376355   \n",
      "2024-07-29 00:00:00+00:00                 14059366              2069965   \n",
      "2024-08-05 00:00:00+00:00                 13918516              2565108   \n",
      "2024-08-12 00:00:00+00:00                 12553089              1492402   \n",
      "2024-08-19 00:00:00+00:00                  5439470               645313   \n",
      "\n",
      "                           Cumulative Transactions Total  \n",
      "Week                                                      \n",
      "2022-08-22 00:00:00+00:00                         940776  \n",
      "2022-08-29 00:00:00+00:00                        2805959  \n",
      "2022-09-05 00:00:00+00:00                        5449021  \n",
      "2022-09-12 00:00:00+00:00                        7566320  \n",
      "2022-09-19 00:00:00+00:00                       10619887  \n",
      "...                                                  ...  \n",
      "2024-07-22 00:00:00+00:00                      845907343  \n",
      "2024-07-29 00:00:00+00:00                      862036674  \n",
      "2024-08-05 00:00:00+00:00                      878520298  \n",
      "2024-08-12 00:00:00+00:00                      892565789  \n",
      "2024-08-19 00:00:00+00:00                      898650572  \n",
      "\n",
      "[105 rows x 3 columns]\n"
     ]
    }
   ],
   "source": [
    "df, freq = cleaner.to_time(df)\n",
    "print(f'freq: {freq}, df: {df}')"
   ]
  },
  {
   "cell_type": "code",
   "execution_count": 6,
   "metadata": {},
   "outputs": [
    {
     "name": "stdout",
     "output_type": "stream",
     "text": [
      "df:                            Successful Transactions  Failed Transactions  \\\n",
      "Week                                                                      \n",
      "2022-08-22 00:00:00+00:00                   862352                78424   \n",
      "2022-08-29 00:00:00+00:00                  1815167                50016   \n",
      "2022-09-05 00:00:00+00:00                  2581433                61629   \n",
      "2022-09-12 00:00:00+00:00                  2055200                62099   \n",
      "2022-09-19 00:00:00+00:00                  2991197                62370   \n",
      "...                                            ...                  ...   \n",
      "2024-07-22 00:00:00+00:00                 13060381              1376355   \n",
      "2024-07-29 00:00:00+00:00                 14059366              2069965   \n",
      "2024-08-05 00:00:00+00:00                 13918516              2565108   \n",
      "2024-08-12 00:00:00+00:00                 12553089              1492402   \n",
      "2024-08-19 00:00:00+00:00                  5439470               645313   \n",
      "\n",
      "                           Cumulative Transactions Total  \n",
      "Week                                                      \n",
      "2022-08-22 00:00:00+00:00                         940776  \n",
      "2022-08-29 00:00:00+00:00                        2805959  \n",
      "2022-09-05 00:00:00+00:00                        5449021  \n",
      "2022-09-12 00:00:00+00:00                        7566320  \n",
      "2022-09-19 00:00:00+00:00                       10619887  \n",
      "...                                                  ...  \n",
      "2024-07-22 00:00:00+00:00                      845907343  \n",
      "2024-07-29 00:00:00+00:00                      862036674  \n",
      "2024-08-05 00:00:00+00:00                      878520298  \n",
      "2024-08-12 00:00:00+00:00                      892565789  \n",
      "2024-08-19 00:00:00+00:00                      898650572  \n",
      "\n",
      "[105 rows x 3 columns]\n"
     ]
    }
   ],
   "source": [
    "df = cleaner.cleaning_values(df)\n",
    "print(f'df: {df}')"
   ]
  },
  {
   "cell_type": "code",
   "execution_count": 7,
   "metadata": {},
   "outputs": [
    {
     "name": "stdout",
     "output_type": "stream",
     "text": [
      "df:                            Successful Transactions  Failed Transactions  \\\n",
      "Week                                                                      \n",
      "2022-08-22 00:00:00+00:00                   862352                78424   \n",
      "2022-08-29 00:00:00+00:00                  1815167                50016   \n",
      "2022-09-05 00:00:00+00:00                  2581433                61629   \n",
      "2022-09-12 00:00:00+00:00                  2055200                62099   \n",
      "2022-09-19 00:00:00+00:00                  2991197                62370   \n",
      "...                                            ...                  ...   \n",
      "2024-07-22 00:00:00+00:00                 13060381              1376355   \n",
      "2024-07-29 00:00:00+00:00                 14059366              2069965   \n",
      "2024-08-05 00:00:00+00:00                 13918516              2565108   \n",
      "2024-08-12 00:00:00+00:00                 12553089              1492402   \n",
      "2024-08-19 00:00:00+00:00                  5439470               645313   \n",
      "\n",
      "                           Cumulative Transactions Total  \n",
      "Week                                                      \n",
      "2022-08-22 00:00:00+00:00                         940776  \n",
      "2022-08-29 00:00:00+00:00                        2805959  \n",
      "2022-09-05 00:00:00+00:00                        5449021  \n",
      "2022-09-12 00:00:00+00:00                        7566320  \n",
      "2022-09-19 00:00:00+00:00                       10619887  \n",
      "...                                                  ...  \n",
      "2024-07-22 00:00:00+00:00                      845907343  \n",
      "2024-07-29 00:00:00+00:00                      862036674  \n",
      "2024-08-05 00:00:00+00:00                      878520298  \n",
      "2024-08-12 00:00:00+00:00                      892565789  \n",
      "2024-08-19 00:00:00+00:00                      898650572  \n",
      "\n",
      "[105 rows x 3 columns]\n"
     ]
    }
   ],
   "source": [
    "df = cleaner.clean_dates(df, freq)\n",
    "print(f'df: {df}')"
   ]
  },
  {
   "cell_type": "markdown",
   "metadata": {},
   "source": [
    "# DefiQuant Tests"
   ]
  },
  {
   "cell_type": "markdown",
   "metadata": {},
   "source": [
    "## API Tests"
   ]
  },
  {
   "cell_type": "code",
   "execution_count": 8,
   "metadata": {},
   "outputs": [],
   "source": [
    "from defiquant import (defillama_pool_data, stablecoin_volume_func, flipside_api_results, defillama_pool_yield,\n",
    "                       get_token_price)\n",
    "import defiquant\n",
    "\n",
    "# Turn cache off\n",
    "defiquant.config.CACHE_ENABLED = False\n",
    "\n",
    "# Change TTL to 5 minutes\n",
    "defiquant.config.CACHE_TTL = 300"
   ]
  },
  {
   "cell_type": "code",
   "execution_count": 9,
   "metadata": {},
   "outputs": [],
   "source": [
    "defillama_data = defillama_pool_data(use_cache=True)"
   ]
  },
  {
   "cell_type": "code",
   "execution_count": 10,
   "metadata": {},
   "outputs": [
    {
     "data": {
      "text/plain": [
       "Index(['chain', 'project', 'symbol', 'tvlUsd', 'apyBase', 'apyReward', 'apy',\n",
       "       'rewardTokens', 'pool', 'apyPct1D', 'apyPct7D', 'apyPct30D',\n",
       "       'stablecoin', 'ilRisk', 'exposure', 'predictions', 'poolMeta', 'mu',\n",
       "       'sigma', 'count', 'outlier', 'underlyingTokens', 'il7d', 'apyBase7d',\n",
       "       'apyMean30d', 'volumeUsd1d', 'volumeUsd7d', 'apyBaseInception'],\n",
       "      dtype='object')"
      ]
     },
     "execution_count": 10,
     "metadata": {},
     "output_type": "execute_result"
    }
   ],
   "source": [
    "defillama_data.columns"
   ]
  },
  {
   "cell_type": "code",
   "execution_count": 11,
   "metadata": {},
   "outputs": [],
   "source": [
    "pools = defillama_data[(defillama_data['volumeUsd7d'] > 1e6)&(defillama_data['stablecoin'] == True)].sort_values(by='apyPct7D',ascending=False).head(5)['pool'].values"
   ]
  },
  {
   "cell_type": "code",
   "execution_count": 12,
   "metadata": {},
   "outputs": [],
   "source": [
    "stablecoin_query = stablecoin_volume_func('2024-01-01 00:00:00')"
   ]
  },
  {
   "cell_type": "code",
   "execution_count": 13,
   "metadata": {},
   "outputs": [],
   "source": [
    "# stablecoin_df = flipside_api_results(query=stablecoin_query)"
   ]
  },
  {
   "cell_type": "code",
   "execution_count": 14,
   "metadata": {},
   "outputs": [],
   "source": [
    "# f\"${stablecoin_df.set_index('dt')['stablecoin_volume'].sum():,.2f}\""
   ]
  },
  {
   "cell_type": "code",
   "execution_count": 15,
   "metadata": {},
   "outputs": [],
   "source": [
    "# pool_df = defillama_pool_yield(pools)"
   ]
  },
  {
   "cell_type": "code",
   "execution_count": 16,
   "metadata": {},
   "outputs": [],
   "source": [
    "# pool_df, time_freq = cleaner.to_time(pool_df)"
   ]
  },
  {
   "cell_type": "code",
   "execution_count": 17,
   "metadata": {},
   "outputs": [],
   "source": [
    "# pool_df"
   ]
  },
  {
   "cell_type": "code",
   "execution_count": 18,
   "metadata": {},
   "outputs": [],
   "source": [
    "# pool_df[pool_df['pool']==pools[0]]['apy'].plot()"
   ]
  },
  {
   "cell_type": "code",
   "execution_count": 19,
   "metadata": {},
   "outputs": [],
   "source": [
    "token_price = get_token_price()"
   ]
  },
  {
   "cell_type": "code",
   "execution_count": 20,
   "metadata": {},
   "outputs": [
    {
     "data": {
      "text/plain": [
       "np.float64(2260.9)"
      ]
     },
     "execution_count": 20,
     "metadata": {},
     "output_type": "execute_result"
    }
   ],
   "source": [
    "token_price"
   ]
  },
  {
   "cell_type": "code",
   "execution_count": null,
   "metadata": {},
   "outputs": [],
   "source": []
  }
 ],
 "metadata": {
  "kernelspec": {
   "display_name": "test_env",
   "language": "python",
   "name": "python3"
  },
  "language_info": {
   "codemirror_mode": {
    "name": "ipython",
    "version": 3
   },
   "file_extension": ".py",
   "mimetype": "text/x-python",
   "name": "python",
   "nbconvert_exporter": "python",
   "pygments_lexer": "ipython3",
   "version": "3.11.9"
  }
 },
 "nbformat": 4,
 "nbformat_minor": 2
}
